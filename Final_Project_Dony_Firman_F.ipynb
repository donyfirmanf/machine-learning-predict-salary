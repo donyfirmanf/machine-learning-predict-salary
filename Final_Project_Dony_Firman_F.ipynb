{
  "nbformat": 4,
  "nbformat_minor": 0,
  "metadata": {
    "colab": {
      "provenance": []
    },
    "kernelspec": {
      "name": "python3",
      "display_name": "Python 3"
    }
  },
  "cells": [
    {
      "cell_type": "code",
      "metadata": {
        "id": "-zh7bktk-8tj"
      },
      "source": [
        "import pandas as pd\n",
        "import numpy as np\n",
        "from sklearn.preprocessing import LabelEncoder\n",
        "from sklearn import preprocessing \n",
        "from sklearn.preprocessing import StandardScaler\n",
        "from sklearn.preprocessing import Normalizer"
      ],
      "execution_count": null,
      "outputs": []
    },
    {
      "cell_type": "code",
      "metadata": {
        "id": "jSUjZpx6Af6w"
      },
      "source": [
        "from sklearn.ensemble import RandomForestClassifier\n",
        "from sklearn.metrics import roc_auc_score\n",
        "from sklearn.model_selection import RandomizedSearchCV\n",
        "from sklearn.model_selection import train_test_split\n",
        "from sklearn.neighbors import KNeighborsClassifier\n",
        "from sklearn.metrics import accuracy_score\n",
        "from sklearn import utils\n",
        "from sklearn.model_selection import GridSearchCV"
      ],
      "execution_count": null,
      "outputs": []
    },
    {
      "cell_type": "code",
      "metadata": {
        "id": "GP4mRZO7IioG"
      },
      "source": [
        "df=pd.read_csv('Data Train.csv')\n",
        "df1=pd.read_csv('Data Test.csv')"
      ],
      "execution_count": null,
      "outputs": []
    },
    {
      "cell_type": "code",
      "metadata": {
        "id": "OdGUVaaLJH7f"
      },
      "source": [
        "df.replace('?',np.nan, inplace=True)"
      ],
      "execution_count": null,
      "outputs": []
    },
    {
      "cell_type": "code",
      "metadata": {
        "id": "8q30_icA8Boq"
      },
      "source": [
        "df.fillna(method='bfill', inplace=True)"
      ],
      "execution_count": null,
      "outputs": []
    },
    {
      "cell_type": "code",
      "metadata": {
        "id": "NM6NrWeI--hM"
      },
      "source": [
        "label_encoder = preprocessing.LabelEncoder() "
      ],
      "execution_count": null,
      "outputs": []
    },
    {
      "cell_type": "code",
      "metadata": {
        "id": "jlYItaNZ_MKl",
        "colab": {
          "base_uri": "https://localhost:8080/",
          "height": 202
        },
        "outputId": "bbbcc858-0947-4493-832c-0c900aeaf39e"
      },
      "source": [
        "df['Kelas Pekerja']= label_encoder.fit_transform(df['Kelas Pekerja']) \n",
        "df['Pendidikan']= label_encoder.fit_transform(df['Pendidikan'])\n",
        "df['Gaji']= label_encoder.fit_transform(df['Gaji'])\n",
        "df['Status Perkawinan']= label_encoder.fit_transform(df['Status Perkawinan'])\n",
        "df['Pekerjaan']= label_encoder.fit_transform(df['Pekerjaan'])\n",
        "df['Jenis Kelamin']= label_encoder.fit_transform(df['Jenis Kelamin'])\n",
        "df.head()"
      ],
      "execution_count": null,
      "outputs": [
        {
          "output_type": "execute_result",
          "data": {
            "text/html": [
              "<div>\n",
              "<style scoped>\n",
              "    .dataframe tbody tr th:only-of-type {\n",
              "        vertical-align: middle;\n",
              "    }\n",
              "\n",
              "    .dataframe tbody tr th {\n",
              "        vertical-align: top;\n",
              "    }\n",
              "\n",
              "    .dataframe thead th {\n",
              "        text-align: right;\n",
              "    }\n",
              "</style>\n",
              "<table border=\"1\" class=\"dataframe\">\n",
              "  <thead>\n",
              "    <tr style=\"text-align: right;\">\n",
              "      <th></th>\n",
              "      <th>id</th>\n",
              "      <th>Umur</th>\n",
              "      <th>Kelas Pekerja</th>\n",
              "      <th>Berat Akhir</th>\n",
              "      <th>Pendidikan</th>\n",
              "      <th>Jmlh Tahun Pendidikan</th>\n",
              "      <th>Status Perkawinan</th>\n",
              "      <th>Pekerjaan</th>\n",
              "      <th>Jenis Kelamin</th>\n",
              "      <th>Keuntungan Kapital</th>\n",
              "      <th>Kerugian Capital</th>\n",
              "      <th>Jam per Minggu</th>\n",
              "      <th>Gaji</th>\n",
              "    </tr>\n",
              "  </thead>\n",
              "  <tbody>\n",
              "    <tr>\n",
              "      <th>0</th>\n",
              "      <td>0</td>\n",
              "      <td>21</td>\n",
              "      <td>7</td>\n",
              "      <td>242912</td>\n",
              "      <td>13</td>\n",
              "      <td>9</td>\n",
              "      <td>0</td>\n",
              "      <td>9</td>\n",
              "      <td>1</td>\n",
              "      <td>0.0</td>\n",
              "      <td>0.0</td>\n",
              "      <td>35.0</td>\n",
              "      <td>0</td>\n",
              "    </tr>\n",
              "    <tr>\n",
              "      <th>1</th>\n",
              "      <td>1</td>\n",
              "      <td>49</td>\n",
              "      <td>7</td>\n",
              "      <td>140782</td>\n",
              "      <td>0</td>\n",
              "      <td>6</td>\n",
              "      <td>2</td>\n",
              "      <td>1</td>\n",
              "      <td>1</td>\n",
              "      <td>0.0</td>\n",
              "      <td>0.0</td>\n",
              "      <td>40.0</td>\n",
              "      <td>0</td>\n",
              "    </tr>\n",
              "    <tr>\n",
              "      <th>2</th>\n",
              "      <td>2</td>\n",
              "      <td>44</td>\n",
              "      <td>7</td>\n",
              "      <td>120057</td>\n",
              "      <td>7</td>\n",
              "      <td>12</td>\n",
              "      <td>4</td>\n",
              "      <td>1</td>\n",
              "      <td>0</td>\n",
              "      <td>61404000.0</td>\n",
              "      <td>0.0</td>\n",
              "      <td>45.0</td>\n",
              "      <td>1</td>\n",
              "    </tr>\n",
              "    <tr>\n",
              "      <th>3</th>\n",
              "      <td>3</td>\n",
              "      <td>24</td>\n",
              "      <td>7</td>\n",
              "      <td>194630</td>\n",
              "      <td>14</td>\n",
              "      <td>13</td>\n",
              "      <td>0</td>\n",
              "      <td>10</td>\n",
              "      <td>0</td>\n",
              "      <td>0.0</td>\n",
              "      <td>0.0</td>\n",
              "      <td>35.0</td>\n",
              "      <td>0</td>\n",
              "    </tr>\n",
              "    <tr>\n",
              "      <th>4</th>\n",
              "      <td>4</td>\n",
              "      <td>33</td>\n",
              "      <td>7</td>\n",
              "      <td>219619</td>\n",
              "      <td>10</td>\n",
              "      <td>14</td>\n",
              "      <td>4</td>\n",
              "      <td>10</td>\n",
              "      <td>0</td>\n",
              "      <td>210336000.0</td>\n",
              "      <td>0.0</td>\n",
              "      <td>40.0</td>\n",
              "      <td>1</td>\n",
              "    </tr>\n",
              "  </tbody>\n",
              "</table>\n",
              "</div>"
            ],
            "text/plain": [
              "   id  Umur  Kelas Pekerja  ...  Kerugian Capital  Jam per Minggu  Gaji\n",
              "0   0    21              7  ...               0.0            35.0     0\n",
              "1   1    49              7  ...               0.0            40.0     0\n",
              "2   2    44              7  ...               0.0            45.0     1\n",
              "3   3    24              7  ...               0.0            35.0     0\n",
              "4   4    33              7  ...               0.0            40.0     1\n",
              "\n",
              "[5 rows x 13 columns]"
            ]
          },
          "metadata": {
            "tags": []
          },
          "execution_count": 9
        }
      ]
    },
    {
      "cell_type": "code",
      "metadata": {
        "id": "SXaZbmM0GECK",
        "colab": {
          "base_uri": "https://localhost:8080/",
          "height": 202
        },
        "outputId": "b8822b72-7ae3-4ec2-9a6c-049ae124f5e0"
      },
      "source": [
        "df1['Kelas Pekerja']= label_encoder.fit_transform(df1['Kelas Pekerja']) \n",
        "df1['Pendidikan']= label_encoder.fit_transform(df1['Pendidikan'])\n",
        "df1['Status Perkawinan']= label_encoder.fit_transform(df1['Status Perkawinan'])\n",
        "df1['Pekerjaan']= label_encoder.fit_transform(df1['Pekerjaan'])\n",
        "df1['Jenis Kelamin']= label_encoder.fit_transform(df1['Jenis Kelamin'])\n",
        "df1.head()"
      ],
      "execution_count": null,
      "outputs": [
        {
          "output_type": "execute_result",
          "data": {
            "text/html": [
              "<div>\n",
              "<style scoped>\n",
              "    .dataframe tbody tr th:only-of-type {\n",
              "        vertical-align: middle;\n",
              "    }\n",
              "\n",
              "    .dataframe tbody tr th {\n",
              "        vertical-align: top;\n",
              "    }\n",
              "\n",
              "    .dataframe thead th {\n",
              "        text-align: right;\n",
              "    }\n",
              "</style>\n",
              "<table border=\"1\" class=\"dataframe\">\n",
              "  <thead>\n",
              "    <tr style=\"text-align: right;\">\n",
              "      <th></th>\n",
              "      <th>id</th>\n",
              "      <th>Umur</th>\n",
              "      <th>Kelas Pekerja</th>\n",
              "      <th>Berat Akhir</th>\n",
              "      <th>Pendidikan</th>\n",
              "      <th>Jmlh Tahun Pendidikan</th>\n",
              "      <th>Status Perkawinan</th>\n",
              "      <th>Pekerjaan</th>\n",
              "      <th>Jenis Kelamin</th>\n",
              "      <th>Keuntungan Kapital</th>\n",
              "      <th>Kerugian Capital</th>\n",
              "      <th>Jam per Minggu</th>\n",
              "    </tr>\n",
              "  </thead>\n",
              "  <tbody>\n",
              "    <tr>\n",
              "      <th>0</th>\n",
              "      <td>35994</td>\n",
              "      <td>30</td>\n",
              "      <td>3</td>\n",
              "      <td>99761</td>\n",
              "      <td>8</td>\n",
              "      <td>11</td>\n",
              "      <td>2</td>\n",
              "      <td>5</td>\n",
              "      <td>1</td>\n",
              "      <td>0.0</td>\n",
              "      <td>0.0</td>\n",
              "      <td>40.0</td>\n",
              "    </tr>\n",
              "    <tr>\n",
              "      <th>1</th>\n",
              "      <td>35995</td>\n",
              "      <td>28</td>\n",
              "      <td>8</td>\n",
              "      <td>202206</td>\n",
              "      <td>13</td>\n",
              "      <td>9</td>\n",
              "      <td>4</td>\n",
              "      <td>3</td>\n",
              "      <td>0</td>\n",
              "      <td>0.0</td>\n",
              "      <td>0.0</td>\n",
              "      <td>50.0</td>\n",
              "    </tr>\n",
              "    <tr>\n",
              "      <th>2</th>\n",
              "      <td>35996</td>\n",
              "      <td>34</td>\n",
              "      <td>5</td>\n",
              "      <td>199934</td>\n",
              "      <td>11</td>\n",
              "      <td>10</td>\n",
              "      <td>4</td>\n",
              "      <td>5</td>\n",
              "      <td>0</td>\n",
              "      <td>0.0</td>\n",
              "      <td>0.0</td>\n",
              "      <td>40.0</td>\n",
              "    </tr>\n",
              "    <tr>\n",
              "      <th>3</th>\n",
              "      <td>35997</td>\n",
              "      <td>51</td>\n",
              "      <td>8</td>\n",
              "      <td>373448</td>\n",
              "      <td>11</td>\n",
              "      <td>10</td>\n",
              "      <td>4</td>\n",
              "      <td>2</td>\n",
              "      <td>0</td>\n",
              "      <td>0.0</td>\n",
              "      <td>28028000.0</td>\n",
              "      <td>40.0</td>\n",
              "    </tr>\n",
              "    <tr>\n",
              "      <th>4</th>\n",
              "      <td>35998</td>\n",
              "      <td>20</td>\n",
              "      <td>0</td>\n",
              "      <td>144685</td>\n",
              "      <td>11</td>\n",
              "      <td>10</td>\n",
              "      <td>0</td>\n",
              "      <td>0</td>\n",
              "      <td>1</td>\n",
              "      <td>0.0</td>\n",
              "      <td>22428000.0</td>\n",
              "      <td>40.0</td>\n",
              "    </tr>\n",
              "  </tbody>\n",
              "</table>\n",
              "</div>"
            ],
            "text/plain": [
              "      id  Umur  ...  Kerugian Capital  Jam per Minggu\n",
              "0  35994    30  ...               0.0            40.0\n",
              "1  35995    28  ...               0.0            50.0\n",
              "2  35996    34  ...               0.0            40.0\n",
              "3  35997    51  ...        28028000.0            40.0\n",
              "4  35998    20  ...        22428000.0            40.0\n",
              "\n",
              "[5 rows x 12 columns]"
            ]
          },
          "metadata": {
            "tags": []
          },
          "execution_count": 10
        }
      ]
    },
    {
      "cell_type": "code",
      "metadata": {
        "id": "qI6xNFQKCqzi"
      },
      "source": [
        "df.columns"
      ],
      "execution_count": null,
      "outputs": []
    },
    {
      "cell_type": "code",
      "metadata": {
        "id": "VgkKNQBcnhgV"
      },
      "source": [
        "normscaler = Normalizer()\n",
        "datanorm = normscaler.fit_transform(df)\n",
        "colnames = ['id', 'Umur', 'Kelas Pekerja', 'Berat Akhir', 'Pendidikan',\n",
        "       'Jmlh Tahun Pendidikan', 'Status Perkawinan', 'Pekerjaan',\n",
        "       'Jenis Kelamin', 'Keuntungan Kapital', 'Kerugian Capital',\n",
        "       'Jam per Minggu', 'Gaji']\n",
        "\n",
        "dfkale = pd.DataFrame(datanorm, columns=colnames)"
      ],
      "execution_count": null,
      "outputs": []
    },
    {
      "cell_type": "code",
      "metadata": {
        "id": "QVGO1IN7n0yb"
      },
      "source": [
        "normscaler = Normalizer()\n",
        "datanorm = normscaler.fit_transform(df1)\n",
        "colnames = ['id', 'Umur', 'Kelas Pekerja', 'Berat Akhir', 'Pendidikan',\n",
        "       'Jmlh Tahun Pendidikan', 'Status Perkawinan', 'Pekerjaan',\n",
        "       'Jenis Kelamin', 'Keuntungan Kapital', 'Kerugian Capital',\n",
        "       'Jam per Minggu']\n",
        "\n",
        "dfkale1 = pd.DataFrame(datanorm, columns=colnames)"
      ],
      "execution_count": null,
      "outputs": []
    },
    {
      "cell_type": "code",
      "metadata": {
        "id": "MUQYxGaLDsg8"
      },
      "source": [
        "stdscalar = StandardScaler()\n",
        "datascale = stdscalar.fit_transform(df)\n",
        "\n",
        "colnames = ['id', 'Umur', 'Kelas Pekerja', 'Berat Akhir', 'Pendidikan',\n",
        "       'Jmlh Tahun Pendidikan', 'Status Perkawinan', 'Pekerjaan',\n",
        "       'Jenis Kelamin', 'Keuntungan Kapital', 'Kerugian Capital',\n",
        "       'Jam per Minggu', 'Gaji']\n",
        "\n",
        "dfscale = pd.DataFrame(datascale, columns=colnames)"
      ],
      "execution_count": null,
      "outputs": []
    },
    {
      "cell_type": "code",
      "metadata": {
        "id": "2noKiPjcAezU"
      },
      "source": [
        "datascale = stdscalar.fit_transform(df1)\n",
        "\n",
        "colnames = ['id', 'Umur', 'Kelas Pekerja', 'Berat Akhir', 'Pendidikan',\n",
        "       'Jmlh Tahun Pendidikan', 'Status Perkawinan', 'Pekerjaan',\n",
        "       'Jenis Kelamin', 'Keuntungan Kapital', 'Kerugian Capital',\n",
        "       'Jam per Minggu']\n",
        "df1scale = pd.DataFrame(datascale, columns=colnames)"
      ],
      "execution_count": null,
      "outputs": []
    },
    {
      "cell_type": "code",
      "metadata": {
        "id": "KA4pZOgUoE0l"
      },
      "source": [
        "x = dfscale.drop(['Gaji'], axis=1)\n",
        "y = df['Gaji']"
      ],
      "execution_count": null,
      "outputs": []
    },
    {
      "cell_type": "code",
      "metadata": {
        "id": "TdLu9Uo5oPUx"
      },
      "source": [
        "modelKNN = KNeighborsClassifier(n_neighbors=10, weights='distance',algorithm='auto',leaf_size=50)\n",
        "\n",
        "x_fit, x_eval, y_fit, y_eval = train_test_split( x, y, test_size=0.25, stratify=y)"
      ],
      "execution_count": null,
      "outputs": []
    },
    {
      "cell_type": "code",
      "metadata": {
        "id": "i1m3_D2PoRFq",
        "colab": {
          "base_uri": "https://localhost:8080/",
          "height": 34
        },
        "outputId": "f53a39e5-534b-4c1b-ff01-69922224be35"
      },
      "source": [
        "modelKNN.fit(x_fit, y_fit)\n",
        "\n",
        "y_predik = modelKNN.predict(x_eval)\n",
        "\n",
        "score = accuracy_score(y_eval, y_predik)\n",
        "score"
      ],
      "execution_count": null,
      "outputs": [
        {
          "output_type": "execute_result",
          "data": {
            "text/plain": [
              "0.8242026891876876"
            ]
          },
          "metadata": {
            "tags": []
          },
          "execution_count": 17
        }
      ]
    },
    {
      "cell_type": "code",
      "metadata": {
        "id": "EmRVXtJ6oXWy",
        "colab": {
          "base_uri": "https://localhost:8080/",
          "height": 34
        },
        "outputId": "143b2429-d15f-4301-cc8b-70755990e2d2"
      },
      "source": [
        "model_rf = RandomForestClassifier()\n",
        "\n",
        "model_rf.fit(x_fit, y_fit)\n",
        "\n",
        "y_prediks = model_rf.predict(x_eval)\n",
        "\n",
        "score = accuracy_score(y_eval, y_prediks)\n",
        "score"
      ],
      "execution_count": null,
      "outputs": [
        {
          "output_type": "execute_result",
          "data": {
            "text/plain": [
              "0.8558728747638626"
            ]
          },
          "metadata": {
            "tags": []
          },
          "execution_count": 18
        }
      ]
    },
    {
      "cell_type": "code",
      "metadata": {
        "id": "jPUzgt5OoqO0"
      },
      "source": [
        "prediksi = model_rf.predict_proba(df1scale)[:,1]\n",
        "prediksi"
      ],
      "execution_count": null,
      "outputs": []
    },
    {
      "cell_type": "code",
      "metadata": {
        "id": "eOGRcLyWKyZ4"
      },
      "source": [
        "x = dfscale.drop('Gaji', axis=1)\n",
        "y = df['Gaji']"
      ],
      "execution_count": null,
      "outputs": []
    },
    {
      "cell_type": "code",
      "metadata": {
        "id": "Dw4NSnpBPDh4"
      },
      "source": [
        "modelKNN = KNeighborsClassifier(n_neighbors=10, weights='distance',algorithm='auto',leaf_size=50)\n",
        "\n",
        "x_fit, x_eval, y_fit, y_eval = train_test_split( x, y, test_size=0.25, stratify=y)"
      ],
      "execution_count": null,
      "outputs": []
    },
    {
      "cell_type": "code",
      "metadata": {
        "id": "kBcxM6Bai9x3"
      },
      "source": [
        "KNeighborsClassifier?\n",
        "RandomForestClassifier?\n"
      ],
      "execution_count": null,
      "outputs": []
    },
    {
      "cell_type": "code",
      "metadata": {
        "id": "TMw-T1xHPDee",
        "colab": {
          "base_uri": "https://localhost:8080/",
          "height": 34
        },
        "outputId": "332184d6-0178-4cbb-c8d5-7b128ebf552c"
      },
      "source": [
        "modelKNN.fit(x_fit, y_fit)\n",
        "\n",
        "y_predik = modelKNN.predict(x_eval)\n",
        "\n",
        "score = accuracy_score(y_eval, y_predik)\n",
        "score"
      ],
      "execution_count": null,
      "outputs": [
        {
          "output_type": "execute_result",
          "data": {
            "text/plain": [
              "0.8297588620957884"
            ]
          },
          "metadata": {
            "tags": []
          },
          "execution_count": 124
        }
      ]
    },
    {
      "cell_type": "code",
      "metadata": {
        "id": "kVN2uLM4S9lE",
        "colab": {
          "base_uri": "https://localhost:8080/",
          "height": 34
        },
        "outputId": "85535f03-6046-4b39-fa6e-475faf2a3be2"
      },
      "source": [
        "prediksi = modelKNN.predict_proba(df1scale)[:,1]\n",
        "prediksi\n"
      ],
      "execution_count": null,
      "outputs": [
        {
          "output_type": "execute_result",
          "data": {
            "text/plain": [
              "array([0. , 0.3, 0.3, ..., 0. , 0. , 0.2])"
            ]
          },
          "metadata": {
            "tags": []
          },
          "execution_count": 59
        }
      ]
    },
    {
      "cell_type": "code",
      "metadata": {
        "id": "RQDi6BMKVK3y",
        "colab": {
          "base_uri": "https://localhost:8080/",
          "height": 124
        },
        "outputId": "dbc0cd3a-0037-4c3e-fc4c-aa2f586a9870"
      },
      "source": [
        "from google.colab import  drive\n",
        "drive.mount('/drive')"
      ],
      "execution_count": null,
      "outputs": [
        {
          "output_type": "stream",
          "text": [
            "Go to this URL in a browser: https://accounts.google.com/o/oauth2/auth?client_id=947318989803-6bn6qk8qdgf4n4g3pfee6491hc0brc4i.apps.googleusercontent.com&redirect_uri=urn%3aietf%3awg%3aoauth%3a2.0%3aoob&response_type=code&scope=email%20https%3a%2f%2fwww.googleapis.com%2fauth%2fdocs.test%20https%3a%2f%2fwww.googleapis.com%2fauth%2fdrive%20https%3a%2f%2fwww.googleapis.com%2fauth%2fdrive.photos.readonly%20https%3a%2f%2fwww.googleapis.com%2fauth%2fpeopleapi.readonly\n",
            "\n",
            "Enter your authorization code:\n",
            "··········\n",
            "Mounted at /drive\n"
          ],
          "name": "stdout"
        }
      ]
    },
    {
      "cell_type": "code",
      "metadata": {
        "id": "X0-m9XkHILd-"
      },
      "source": [
        "x_train, x_valid, y_train, y_valid = train_test_split(x, y, test_size=0.30, random_state=0,stratify=y)\n",
        "\n",
        "param_grid = {'n_estimators':[1200], 'criterion':['entropy'],\n",
        "              'max_features':['auto'],\n",
        "              'max_depth':[18], \n",
        "              'bootstrap':[True],\n",
        "              'min_samples_split':[2], \n",
        "              'class_weight':['balanced'],\n",
        "              'min_samples_leaf':[7]}\n",
        "\n",
        "rscv = RandomizedSearchCV(model_rf, param_grid, cv = 100, scoring ='roc_auc')\n"
      ],
      "execution_count": null,
      "outputs": []
    },
    {
      "cell_type": "code",
      "metadata": {
        "id": "24wdlBI7RBuU"
      },
      "source": [
        "x_train, x_valid, y_train, y_valid = train_test_split(x, y, test_size=0.30, random_state=0,stratify=y)\n",
        "\n",
        "param_grid = {'n_estimators':[1200], 'criterion':['entropy'],\n",
        "              'max_features':['auto'],\n",
        "              'max_depth':[18], \n",
        "              'bootstrap':[True],\n",
        "              'min_samples_split':[2], \n",
        "              'class_weight':['balanced'],\n",
        "              'min_samples_leaf':[7]}\n",
        "\n",
        "gscv = GridSearchCV(model_rf, param_grid, cv = 200, scoring ='roc_auc')"
      ],
      "execution_count": null,
      "outputs": []
    },
    {
      "cell_type": "code",
      "metadata": {
        "id": "jsUiaqgziQmt"
      },
      "source": [
        "rscv.fit(x_train, y_train)"
      ],
      "execution_count": null,
      "outputs": []
    },
    {
      "cell_type": "code",
      "metadata": {
        "id": "b__tP0F1RGrq",
        "colab": {
          "base_uri": "https://localhost:8080/",
          "height": 398
        },
        "outputId": "55a88a96-23cb-4d51-f687-f4a84e952425"
      },
      "source": [
        "gscv.fit(x_train, y_train)"
      ],
      "execution_count": null,
      "outputs": [
        {
          "output_type": "execute_result",
          "data": {
            "text/plain": [
              "GridSearchCV(cv=200, error_score=nan,\n",
              "             estimator=RandomForestClassifier(bootstrap=True, ccp_alpha=0.0,\n",
              "                                              class_weight=None,\n",
              "                                              criterion='gini', max_depth=None,\n",
              "                                              max_features='auto',\n",
              "                                              max_leaf_nodes=None,\n",
              "                                              max_samples=None,\n",
              "                                              min_impurity_decrease=0.0,\n",
              "                                              min_impurity_split=None,\n",
              "                                              min_samples_leaf=1,\n",
              "                                              min_samples_split=2,\n",
              "                                              min_weight_fraction_leaf=0.0,\n",
              "                                              n_estimators=100, n_jobs=Non...\n",
              "                                              random_state=None, verbose=0,\n",
              "                                              warm_start=False),\n",
              "             iid='deprecated', n_jobs=None,\n",
              "             param_grid={'bootstrap': [True], 'class_weight': ['balanced'],\n",
              "                         'criterion': ['entropy'], 'max_depth': [18],\n",
              "                         'max_features': ['auto'], 'min_samples_leaf': [7],\n",
              "                         'min_samples_split': [2], 'n_estimators': [1200]},\n",
              "             pre_dispatch='2*n_jobs', refit=True, return_train_score=False,\n",
              "             scoring='roc_auc', verbose=0)"
            ]
          },
          "metadata": {
            "tags": []
          },
          "execution_count": 22
        }
      ]
    },
    {
      "cell_type": "code",
      "metadata": {
        "id": "AL1Hnes2ITjQ",
        "colab": {
          "base_uri": "https://localhost:8080/",
          "height": 34
        },
        "outputId": "e5fda3a5-24ed-40eb-c74b-5cf6c5efead7"
      },
      "source": [
        "gscv.best_score_"
      ],
      "execution_count": null,
      "outputs": [
        {
          "output_type": "execute_result",
          "data": {
            "text/plain": [
              "0.9138963980852669"
            ]
          },
          "metadata": {
            "tags": []
          },
          "execution_count": 23
        }
      ]
    },
    {
      "cell_type": "code",
      "metadata": {
        "id": "oWd7IMoukmr9"
      },
      "source": [
        "0.9148897299788754"
      ],
      "execution_count": null,
      "outputs": []
    },
    {
      "cell_type": "code",
      "metadata": {
        "id": "YloAgaa287nH",
        "colab": {
          "base_uri": "https://localhost:8080/",
          "height": 156
        },
        "outputId": "ab0adb72-af54-470e-c0c7-fa7f6417b459"
      },
      "source": [
        "gscv.best_params_"
      ],
      "execution_count": null,
      "outputs": [
        {
          "output_type": "execute_result",
          "data": {
            "text/plain": [
              "{'bootstrap': True,\n",
              " 'class_weight': 'balanced',\n",
              " 'criterion': 'entropy',\n",
              " 'max_depth': 18,\n",
              " 'max_features': 'auto',\n",
              " 'min_samples_leaf': 7,\n",
              " 'min_samples_split': 2,\n",
              " 'n_estimators': 1200}"
            ]
          },
          "metadata": {
            "tags": []
          },
          "execution_count": 24
        }
      ]
    },
    {
      "cell_type": "code",
      "metadata": {
        "id": "IYnVPuf59GH0",
        "colab": {
          "base_uri": "https://localhost:8080/",
          "height": 156
        },
        "outputId": "6ec66b62-dc16-4a63-b553-b75f7526c06b"
      },
      "source": [
        "rscv.best_estimator_"
      ],
      "execution_count": null,
      "outputs": [
        {
          "output_type": "execute_result",
          "data": {
            "text/plain": [
              "RandomForestClassifier(bootstrap=True, ccp_alpha=0.0, class_weight='balanced',\n",
              "                       criterion='entropy', max_depth=18, max_features='sqrt',\n",
              "                       max_leaf_nodes=None, max_samples=None,\n",
              "                       min_impurity_decrease=0.0, min_impurity_split=None,\n",
              "                       min_samples_leaf=7, min_samples_split=2,\n",
              "                       min_weight_fraction_leaf=0.0, n_estimators=900,\n",
              "                       n_jobs=None, oob_score=False, random_state=None,\n",
              "                       verbose=0, warm_start=False)"
            ]
          },
          "metadata": {
            "tags": []
          },
          "execution_count": 43
        }
      ]
    },
    {
      "cell_type": "code",
      "metadata": {
        "id": "liDXC4nVh_cs"
      },
      "source": [
        "predik = gscv.predict_proba(df1scale)[:,1]\n"
      ],
      "execution_count": null,
      "outputs": []
    },
    {
      "cell_type": "code",
      "metadata": {
        "id": "lEiI2dNEDGU6"
      },
      "source": [
        "submissionrscv = pd.DataFrame({'id':df1['id'],'Gaji':predik})\n",
        "submissionrscv.to_csv('/drive/My Drive/HasilRF11.csv', index=False)"
      ],
      "execution_count": null,
      "outputs": []
    }
  ]
}